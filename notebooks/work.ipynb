{
 "cells": [
  {
   "attachments": {},
   "cell_type": "markdown",
   "metadata": {},
   "source": [
    "# template notebook for scratch work \n"
   ]
  },
  {
   "attachments": {},
   "cell_type": "markdown",
   "metadata": {},
   "source": []
  },
  {
   "cell_type": "code",
   "execution_count": 1,
   "metadata": {},
   "outputs": [
    {
     "name": "stdout",
     "output_type": "stream",
     "text": [
      "/kfs2/projects/hpcapps/isatkaus/grid-buildouts/notebooks\n"
     ]
    }
   ],
   "source": [
    "!pwd"
   ]
  },
  {
   "cell_type": "code",
   "execution_count": 2,
   "metadata": {},
   "outputs": [
    {
     "data": {
      "text/html": [
       "        <script type=\"text/javascript\">\n",
       "        window.PlotlyConfig = {MathJaxConfig: 'local'};\n",
       "        if (window.MathJax && window.MathJax.Hub && window.MathJax.Hub.Config) {window.MathJax.Hub.Config({SVG: {font: \"STIX-Web\"}});}\n",
       "        if (typeof require !== 'undefined') {\n",
       "        require.undef(\"plotly\");\n",
       "        requirejs.config({\n",
       "            paths: {\n",
       "                'plotly': ['https://cdn.plot.ly/plotly-2.18.2.min']\n",
       "            }\n",
       "        });\n",
       "        require(['plotly'], function(Plotly) {\n",
       "            window._Plotly = Plotly;\n",
       "        });\n",
       "        }\n",
       "        </script>\n",
       "        "
      ]
     },
     "metadata": {},
     "output_type": "display_data"
    }
   ],
   "source": [
    "from IPython.display import Image\n",
    "import cufflinks as cl\n",
    "import pandas as pd\n",
    "import numpy as np\n",
    "import os\n",
    "import math\n",
    "\n",
    "# import matplotlib.pyplot as plt\n",
    "import glob\n",
    "import os\n",
    "\n",
    "\n",
    "# show multiple cell outputs\n",
    "from IPython.core.interactiveshell import InteractiveShell\n",
    "\n",
    "InteractiveShell.ast_node_interactivity = \"all\"\n",
    "\n",
    "pd.set_option(\"display.max_rows\", 10)\n",
    "pd.set_option(\"display.max_columns\", 100)\n",
    "\n",
    "# plotting (optional)\n",
    "\n",
    "cl.go_offline()"
   ]
  },
  {
   "cell_type": "code",
   "execution_count": 5,
   "metadata": {},
   "outputs": [],
   "source": [
    "#########################\n",
    "# check black formatting\n",
    "\n",
    "\n",
    "ll = [\n",
    "    \"blet\",\n",
    "    \"test\",\n",
    "    \"black\",\n",
    "]"
   ]
  },
  {
   "cell_type": "code",
   "execution_count": 5,
   "metadata": {},
   "outputs": [],
   "source": [
    "# import plotly.express as px"
   ]
  },
  {
   "cell_type": "code",
   "execution_count": null,
   "metadata": {},
   "outputs": [],
   "source": [
    "# import geopandas as gpd\n",
    "# import contextily as ctx\n",
    "# import matplotlib.pyplot as plt\n",
    "# import shapely\n",
    "\n",
    "# # same as above but using shapely.Point\n",
    "# from shapely.geometry import Point, LineString, Polygon\n",
    "\n",
    "# # import numpy as np\n",
    "# from powerscenarios.parser import Parser\n",
    "# from powerscenarios.grid import Grid\n",
    "\n",
    "# from ecmwfapi import ECMWFDataServer\n",
    "# import netCDF4\n",
    "\n",
    "# from rex import WindX\n",
    "# from rex import Resource\n",
    "# import rex\n",
    "# import os\n",
    "\n",
    "# # speeds up tab autocompletion significantly\n",
    "# %config Completer.use_jedi = False"
   ]
  },
  {
   "cell_type": "code",
   "execution_count": null,
   "metadata": {},
   "outputs": [],
   "source": [
    "# import plotly.express as px\n",
    "# import geopandas as gpd\n",
    "# import shapely.geometry\n",
    "# import numpy as np\n",
    "# import wget\n",
    "\n",
    "# # download a zipped shapefile\n",
    "# wget.download(\n",
    "#    \"https://plotly.github.io/datasets/ne_50m_rivers_lake_centerlines.zip\"\n",
    "# )\n",
    "\n",
    "# # open a zipped shapefile with the zip:// pseudo-protocol\n",
    "# geo_df = gpd.read_file(\"zip://ne_50m_rivers_lake_centerlines.zip\")\n",
    "\n",
    "# lats = []\n",
    "# lons = []\n",
    "# names = []\n",
    "\n",
    "# for feature, name in zip(geo_df.geometry, geo_df.name):\n",
    "#    if isinstance(feature, shapely.geometry.linestring.LineString):\n",
    "#        linestrings = [feature]\n",
    "#    elif isinstance(feature, shapely.geometry.multilinestring.MultiLineString):\n",
    "#        linestrings = feature.geoms\n",
    "#    else:\n",
    "#        continue\n",
    "#    for linestring in linestrings:\n",
    "#        x, y = linestring.xy\n",
    "#        lats = np.append(lats, y)\n",
    "#        lons = np.append(lons, x)\n",
    "#        names = np.append(names, [name] * len(y))\n",
    "#        lats = np.append(lats, None)\n",
    "#        lons = np.append(lons, None)\n",
    "#        names = np.append(names, None)\n",
    "\n",
    "# fig = px.line_geo(\n",
    "#    lat=lats,\n",
    "#    lon=lons,\n",
    "#    hover_name=names,\n",
    "#    projection=\"orthographic\",\n",
    "# )\n",
    "\n",
    "# # add some basic styling to the map\n",
    "# fig.update_geos(\n",
    "#    visible=False,\n",
    "#    resolution=50,\n",
    "#    showcountries=True,\n",
    "#    countrycolor=\"white\",\n",
    "#    showland=True,\n",
    "#    landcolor=\"#cccccc\",\n",
    "# )\n",
    "# fig.show()"
   ]
  },
  {
   "cell_type": "code",
   "execution_count": null,
   "metadata": {},
   "outputs": [],
   "source": [
    "buildout_dir = \"/Users/isatkaus/projects/ecp/public-github/powerscenarios/data/tables-data/buildouts/ngens89-pen69\"\n",
    "# buildout_dir = \"/Users/isatkaus/projects/ecp/public-github/powerscenarios/data/tables-data/buildouts/option2_seed2-ngens11-pen86\"\n",
    "filename = \"bus_df.csv\"\n",
    "bus_df = pd.read_csv(os.path.join(buildout_dir, filename), index_col=0)\n",
    "bus_df"
   ]
  },
  {
   "cell_type": "code",
   "execution_count": null,
   "metadata": {},
   "outputs": [],
   "source": [
    "# import plotly.express as px\n",
    "# import geopandas as gpd\n",
    "# from shapely import wkt\n",
    "\n",
    "# geo_df = gpd.read_file(gpd.datasets.get_path(\"naturalearth_cities\"))\n",
    "\n",
    "# # px.set_mapbox_access_token(open(\".mapbox_token\").read())\n",
    "# fig = px.scatter_geo(\n",
    "#     geo_df, lat=geo_df.geometry.y, lon=geo_df.geometry.x, hover_name=\"name\"\n",
    "# )\n",
    "# fig.show()"
   ]
  },
  {
   "cell_type": "code",
   "execution_count": null,
   "metadata": {},
   "outputs": [],
   "source": [
    "# filename = \"points_gdf.csv\"\n",
    "# points_gdf = gpd.read_file(os.path.join(buildout_dir,filename))\n",
    "# points_gdf"
   ]
  },
  {
   "cell_type": "code",
   "execution_count": null,
   "metadata": {},
   "outputs": [],
   "source": [
    "filename = \"points_gdf.csv\"\n",
    "df = pd.read_csv(os.path.join(buildout_dir, filename), index_col=0)\n",
    "df\n",
    "df[\"geometry\"] = df[\"geometry\"].apply(wkt.loads)\n",
    "# lat/lon\n",
    "gdf = gpd.GeoDataFrame(df, geometry=\"geometry\", crs=\"epsg:4326\")\n",
    "# Mercator (I usually save in this crs)\n",
    "# gdf = gpd.GeoDataFrame(df, crs='epsg:3857')\n",
    "gdf = gpd.GeoDataFrame(df, geometry=\"geometry\", crs=\"epsg:3857\")\n",
    "# gdf = gdf.to_crs(epsg=3857)\n",
    "gdf"
   ]
  },
  {
   "cell_type": "code",
   "execution_count": null,
   "metadata": {},
   "outputs": [],
   "source": [
    "filename = \"bus_df.csv\"\n",
    "bus_df = pd.read_csv(os.path.join(buildout_dir, filename), index_col=0)\n",
    "fig3 = px.scatter_mapbox(\n",
    "    bus_df,\n",
    "    lat=\"Latitude\",\n",
    "    lon=\"Longitude\",\n",
    "    hover_name=\"BusName\",\n",
    "    hover_data=[\"BusNum\", \"Zone\"],\n",
    "    color_discrete_sequence=[\"blue\"],\n",
    "    zoom=3,\n",
    "    height=600,\n",
    ")\n",
    "fig3.update_layout(mapbox_style=\"open-street-map\")\n",
    "# fig3.show()"
   ]
  },
  {
   "cell_type": "code",
   "execution_count": null,
   "metadata": {},
   "outputs": [],
   "source": []
  },
  {
   "cell_type": "code",
   "execution_count": null,
   "metadata": {},
   "outputs": [],
   "source": []
  },
  {
   "cell_type": "code",
   "execution_count": null,
   "metadata": {},
   "outputs": [],
   "source": []
  },
  {
   "cell_type": "code",
   "execution_count": null,
   "metadata": {},
   "outputs": [],
   "source": []
  }
 ],
 "metadata": {
  "kernelspec": {
   "display_name": "Python 3",
   "language": "python",
   "name": "python3"
  },
  "language_info": {
   "codemirror_mode": {
    "name": "ipython",
    "version": 3
   },
   "file_extension": ".py",
   "mimetype": "text/x-python",
   "name": "python",
   "nbconvert_exporter": "python",
   "pygments_lexer": "ipython3",
   "version": "3.11.0"
  },
  "vscode": {
   "interpreter": {
    "hash": "aa427d1c46544754aa3206842f4be07fe12470fdfc8ea08ba0ee5a48422a9876"
   }
  }
 },
 "nbformat": 4,
 "nbformat_minor": 4
}
