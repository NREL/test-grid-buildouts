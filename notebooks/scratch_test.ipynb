{
 "cells": [
  {
   "attachments": {},
   "cell_type": "markdown",
   "metadata": {},
   "source": [
    "# Scratch test notebook\n",
    "* kestrel ipython, notebook7, buildouts env, etc\n",
    "* memory testing "
   ]
  },
  {
   "cell_type": "code",
   "execution_count": 1,
   "metadata": {},
   "outputs": [
    {
     "name": "stdout",
     "output_type": "stream",
     "text": [
      "\n"
     ]
    }
   ],
   "source": [
    "!echo $CONDA_DEFAULT_ENV"
   ]
  },
  {
   "cell_type": "code",
   "execution_count": 2,
   "metadata": {},
   "outputs": [
    {
     "name": "stdout",
     "output_type": "stream",
     "text": [
      "/projects/hpcapps/isatkaus/conda-envs/buildouts\n"
     ]
    }
   ],
   "source": [
    "!echo $CONDA_PREFIX"
   ]
  },
  {
   "cell_type": "code",
   "execution_count": 3,
   "metadata": {},
   "outputs": [
    {
     "name": "stdout",
     "output_type": "stream",
     "text": [
      "/bin/bash: conda: command not found\n"
     ]
    }
   ],
   "source": [
    "!conda list"
   ]
  },
  {
   "cell_type": "code",
   "execution_count": 4,
   "metadata": {},
   "outputs": [
    {
     "name": "stdout",
     "output_type": "stream",
     "text": [
      "Selected Jupyter core packages...\n",
      "IPython          : 8.8.0\n",
      "ipykernel        : 6.22.0\n",
      "ipywidgets       : 8.0.6\n",
      "jupyter_client   : 8.1.0\n",
      "jupyter_core     : 5.3.0\n",
      "jupyter_server   : not installed\n",
      "jupyterlab       : not installed\n",
      "nbclient         : not installed\n",
      "nbconvert        : not installed\n",
      "nbformat         : 5.8.0\n",
      "notebook         : not installed\n",
      "qtconsole        : not installed\n",
      "traitlets        : 5.8.0\n"
     ]
    }
   ],
   "source": [
    "!jupyter --version"
   ]
  },
  {
   "cell_type": "code",
   "execution_count": 5,
   "metadata": {},
   "outputs": [
    {
     "data": {
      "text/plain": [
       "'/projects/hpcapps/isatkaus/conda-envs/buildouts/bin/python'"
      ]
     },
     "execution_count": 5,
     "metadata": {},
     "output_type": "execute_result"
    }
   ],
   "source": [
    "# to see current python kernel in use:\n",
    "# (too find your kernel in the dropdow do:\n",
    "##\n",
    "import sys\n",
    "sys.executable"
   ]
  },
  {
   "cell_type": "code",
   "execution_count": 6,
   "metadata": {},
   "outputs": [],
   "source": [
    "ll2 = [\n",
    "    \"blet\",\n",
    "    \"test\",\n",
    "    \"black\",\n",
    "]"
   ]
  },
  {
   "cell_type": "code",
   "execution_count": 7,
   "metadata": {},
   "outputs": [
    {
     "data": {
      "application/javascript": "\n            setTimeout(function() {\n                var nbb_cell_id = 7;\n                var nbb_unformatted_code = \"%load_ext nb_black\";\n                var nbb_formatted_code = \"%load_ext nb_black\";\n                var nbb_cells = Jupyter.notebook.get_cells();\n                for (var i = 0; i < nbb_cells.length; ++i) {\n                    if (nbb_cells[i].input_prompt_number == nbb_cell_id) {\n                        if (nbb_cells[i].get_text() == nbb_unformatted_code) {\n                             nbb_cells[i].set_text(nbb_formatted_code);\n                        }\n                        break;\n                    }\n                }\n            }, 500);\n            ",
      "text/plain": [
       "<IPython.core.display.Javascript object>"
      ]
     },
     "metadata": {},
     "output_type": "display_data"
    }
   ],
   "source": [
    "%load_ext nb_black"
   ]
  },
  {
   "cell_type": "code",
   "execution_count": 10,
   "metadata": {},
   "outputs": [
    {
     "data": {
      "application/javascript": "\n            setTimeout(function() {\n                var nbb_cell_id = 10;\n                var nbb_unformatted_code = \"#########################\\n# check black formatting\\n\\n\\nll = [\\\"blet\\\", \\\"test\\\", \\\"black\\\",]\";\n                var nbb_formatted_code = \"#########################\\n# check black formatting\\n\\n\\nll = [\\n    \\\"blet\\\",\\n    \\\"test\\\",\\n    \\\"black\\\",\\n]\";\n                var nbb_cells = Jupyter.notebook.get_cells();\n                for (var i = 0; i < nbb_cells.length; ++i) {\n                    if (nbb_cells[i].input_prompt_number == nbb_cell_id) {\n                        if (nbb_cells[i].get_text() == nbb_unformatted_code) {\n                             nbb_cells[i].set_text(nbb_formatted_code);\n                        }\n                        break;\n                    }\n                }\n            }, 500);\n            ",
      "text/plain": [
       "<IPython.core.display.Javascript object>"
      ]
     },
     "metadata": {},
     "output_type": "display_data"
    }
   ],
   "source": [
    "#########################\n",
    "# check black formatting\n",
    "\n",
    "\n",
    "ll = [\"blet\", \"test\", \"black\",]"
   ]
  },
  {
   "cell_type": "code",
   "execution_count": null,
   "metadata": {},
   "outputs": [],
   "source": []
  },
  {
   "cell_type": "code",
   "execution_count": 7,
   "metadata": {},
   "outputs": [
    {
     "data": {
      "application/javascript": "\n            setTimeout(function() {\n                var nbb_cell_id = 7;\n                var nbb_unformatted_code = \"import os\\nfrom reV import TESTDATADIR\\nfrom reV.config.project_points import ProjectPoints\\nfrom reV.generation.generation import Gen\\n\\nimport numpy as np\\nimport matplotlib.pyplot as plt\\nimport json\\n\\n\\nimport rex\\nfrom rex import Resource\\n\\nimport h5py\\nimport glob\";\n                var nbb_formatted_code = \"import os\\nfrom reV import TESTDATADIR\\nfrom reV.config.project_points import ProjectPoints\\nfrom reV.generation.generation import Gen\\n\\nimport numpy as np\\nimport matplotlib.pyplot as plt\\nimport json\\n\\n\\nimport rex\\nfrom rex import Resource\\n\\nimport h5py\\nimport glob\";\n                var nbb_cells = Jupyter.notebook.get_cells();\n                for (var i = 0; i < nbb_cells.length; ++i) {\n                    if (nbb_cells[i].input_prompt_number == nbb_cell_id) {\n                        if (nbb_cells[i].get_text() == nbb_unformatted_code) {\n                             nbb_cells[i].set_text(nbb_formatted_code);\n                        }\n                        break;\n                    }\n                }\n            }, 500);\n            ",
      "text/plain": [
       "<IPython.core.display.Javascript object>"
      ]
     },
     "metadata": {},
     "output_type": "display_data"
    }
   ],
   "source": [
    "import os\n",
    "from reV import TESTDATADIR\n",
    "from reV.config.project_points import ProjectPoints\n",
    "from reV.generation.generation import Gen\n",
    "\n",
    "import numpy as np\n",
    "import matplotlib.pyplot as plt\n",
    "import json\n",
    "\n",
    "\n",
    "import rex\n",
    "from rex import Resource\n",
    "\n",
    "import h5py\n",
    "import glob"
   ]
  },
  {
   "cell_type": "code",
   "execution_count": 8,
   "metadata": {},
   "outputs": [
    {
     "data": {
      "text/html": [
       "        <script type=\"text/javascript\">\n",
       "        window.PlotlyConfig = {MathJaxConfig: 'local'};\n",
       "        if (window.MathJax && window.MathJax.Hub && window.MathJax.Hub.Config) {window.MathJax.Hub.Config({SVG: {font: \"STIX-Web\"}});}\n",
       "        if (typeof require !== 'undefined') {\n",
       "        require.undef(\"plotly\");\n",
       "        requirejs.config({\n",
       "            paths: {\n",
       "                'plotly': ['https://cdn.plot.ly/plotly-2.18.2.min']\n",
       "            }\n",
       "        });\n",
       "        require(['plotly'], function(Plotly) {\n",
       "            window._Plotly = Plotly;\n",
       "        });\n",
       "        }\n",
       "        </script>\n",
       "        "
      ]
     },
     "metadata": {},
     "output_type": "display_data"
    },
    {
     "data": {
      "application/javascript": "\n            setTimeout(function() {\n                var nbb_cell_id = 8;\n                var nbb_unformatted_code = \"import cufflinks as cl\\nimport pandas as pd\\nimport numpy as np\\nimport time\\nimport os\\n\\n# # set PYWTK_CACHE_DIR to locate WIND Toolkit data\\n# # will download from AWS as needed\\n# os.environ[\\\"PYWTK_CACHE_DIR\\\"] = os.path.join(os.environ[\\\"HOME\\\"], \\\"pywtk-data\\\")\\n\\nfrom powerscenarios.parser import Parser\\nfrom powerscenarios.grid import Grid\\n\\n# show multiple cell outputs\\nfrom IPython.core.interactiveshell import InteractiveShell\\n\\nInteractiveShell.ast_node_interactivity = \\\"all\\\"\\n\\npd.set_option(\\\"display.max_rows\\\", 8)\\npd.set_option(\\\"display.max_columns\\\", 30)\\n\\n# plotting (optional)\\n\\ncl.go_offline()\";\n                var nbb_formatted_code = \"import cufflinks as cl\\nimport pandas as pd\\nimport numpy as np\\nimport time\\nimport os\\n\\n# # set PYWTK_CACHE_DIR to locate WIND Toolkit data\\n# # will download from AWS as needed\\n# os.environ[\\\"PYWTK_CACHE_DIR\\\"] = os.path.join(os.environ[\\\"HOME\\\"], \\\"pywtk-data\\\")\\n\\nfrom powerscenarios.parser import Parser\\nfrom powerscenarios.grid import Grid\\n\\n# show multiple cell outputs\\nfrom IPython.core.interactiveshell import InteractiveShell\\n\\nInteractiveShell.ast_node_interactivity = \\\"all\\\"\\n\\npd.set_option(\\\"display.max_rows\\\", 8)\\npd.set_option(\\\"display.max_columns\\\", 30)\\n\\n# plotting (optional)\\n\\ncl.go_offline()\";\n                var nbb_cells = Jupyter.notebook.get_cells();\n                for (var i = 0; i < nbb_cells.length; ++i) {\n                    if (nbb_cells[i].input_prompt_number == nbb_cell_id) {\n                        if (nbb_cells[i].get_text() == nbb_unformatted_code) {\n                             nbb_cells[i].set_text(nbb_formatted_code);\n                        }\n                        break;\n                    }\n                }\n            }, 500);\n            ",
      "text/plain": [
       "<IPython.core.display.Javascript object>"
      ]
     },
     "metadata": {},
     "output_type": "display_data"
    }
   ],
   "source": [
    "import cufflinks as cl\n",
    "import pandas as pd\n",
    "import numpy as np\n",
    "import time\n",
    "import os\n",
    "\n",
    "# # set PYWTK_CACHE_DIR to locate WIND Toolkit data\n",
    "# # will download from AWS as needed\n",
    "# os.environ[\"PYWTK_CACHE_DIR\"] = os.path.join(os.environ[\"HOME\"], \"pywtk-data\")\n",
    "\n",
    "from powerscenarios.parser import Parser\n",
    "from powerscenarios.grid import Grid\n",
    "\n",
    "# show multiple cell outputs\n",
    "from IPython.core.interactiveshell import InteractiveShell\n",
    "\n",
    "InteractiveShell.ast_node_interactivity = \"all\"\n",
    "\n",
    "pd.set_option(\"display.max_rows\", 8)\n",
    "pd.set_option(\"display.max_columns\", 30)\n",
    "\n",
    "# plotting (optional)\n",
    "\n",
    "cl.go_offline()"
   ]
  },
  {
   "cell_type": "code",
   "execution_count": 9,
   "metadata": {},
   "outputs": [
    {
     "data": {
      "application/javascript": "\n            setTimeout(function() {\n                var nbb_cell_id = 9;\n                var nbb_unformatted_code = \"# voronoi\\nfrom shapely.ops import cascaded_union\\nfrom geovoronoi.plotting import subplot_for_map, plot_voronoi_polys_with_points_in_area\\nfrom geovoronoi import voronoi_regions_from_coords, points_to_coords\";\n                var nbb_formatted_code = \"# voronoi\\nfrom shapely.ops import cascaded_union\\nfrom geovoronoi.plotting import subplot_for_map, plot_voronoi_polys_with_points_in_area\\nfrom geovoronoi import voronoi_regions_from_coords, points_to_coords\";\n                var nbb_cells = Jupyter.notebook.get_cells();\n                for (var i = 0; i < nbb_cells.length; ++i) {\n                    if (nbb_cells[i].input_prompt_number == nbb_cell_id) {\n                        if (nbb_cells[i].get_text() == nbb_unformatted_code) {\n                             nbb_cells[i].set_text(nbb_formatted_code);\n                        }\n                        break;\n                    }\n                }\n            }, 500);\n            ",
      "text/plain": [
       "<IPython.core.display.Javascript object>"
      ]
     },
     "metadata": {},
     "output_type": "display_data"
    }
   ],
   "source": [
    "# voronoi\n",
    "from shapely.ops import cascaded_union\n",
    "from geovoronoi.plotting import subplot_for_map, plot_voronoi_polys_with_points_in_area\n",
    "from geovoronoi import voronoi_regions_from_coords, points_to_coords"
   ]
  },
  {
   "cell_type": "code",
   "execution_count": 10,
   "metadata": {},
   "outputs": [
    {
     "data": {
      "application/javascript": "\n            setTimeout(function() {\n                var nbb_cell_id = 10;\n                var nbb_unformatted_code = \"\\nimport geopandas as gpd\\nimport contextily as ctx\\nimport shapely\\n# same as above but using shapely.Point\\nfrom shapely.geometry import Point, LineString, Polygon\\n\\nfrom pyproj import Proj, transform\\nimport rasterio\\nfrom rasterio.plot import show\\nimport pyproj\";\n                var nbb_formatted_code = \"import geopandas as gpd\\nimport contextily as ctx\\nimport shapely\\n\\n# same as above but using shapely.Point\\nfrom shapely.geometry import Point, LineString, Polygon\\n\\nfrom pyproj import Proj, transform\\nimport rasterio\\nfrom rasterio.plot import show\\nimport pyproj\";\n                var nbb_cells = Jupyter.notebook.get_cells();\n                for (var i = 0; i < nbb_cells.length; ++i) {\n                    if (nbb_cells[i].input_prompt_number == nbb_cell_id) {\n                        if (nbb_cells[i].get_text() == nbb_unformatted_code) {\n                             nbb_cells[i].set_text(nbb_formatted_code);\n                        }\n                        break;\n                    }\n                }\n            }, 500);\n            ",
      "text/plain": [
       "<IPython.core.display.Javascript object>"
      ]
     },
     "metadata": {},
     "output_type": "display_data"
    }
   ],
   "source": [
    "\n",
    "import geopandas as gpd\n",
    "import contextily as ctx\n",
    "import shapely\n",
    "# same as above but using shapely.Point\n",
    "from shapely.geometry import Point, LineString, Polygon\n",
    "\n",
    "from pyproj import Proj, transform\n",
    "import rasterio\n",
    "from rasterio.plot import show\n",
    "import pyproj"
   ]
  },
  {
   "cell_type": "code",
   "execution_count": null,
   "metadata": {},
   "outputs": [],
   "source": []
  },
  {
   "cell_type": "code",
   "execution_count": null,
   "metadata": {},
   "outputs": [],
   "source": []
  },
  {
   "cell_type": "code",
   "execution_count": null,
   "metadata": {},
   "outputs": [],
   "source": []
  },
  {
   "cell_type": "code",
   "execution_count": null,
   "metadata": {},
   "outputs": [],
   "source": []
  },
  {
   "cell_type": "code",
   "execution_count": null,
   "metadata": {},
   "outputs": [],
   "source": []
  },
  {
   "cell_type": "code",
   "execution_count": null,
   "metadata": {},
   "outputs": [],
   "source": []
  }
 ],
 "metadata": {
  "kernelspec": {
   "display_name": "Python 3",
   "language": "python",
   "name": "python3"
  },
  "language_info": {
   "codemirror_mode": {
    "name": "ipython",
    "version": 3
   },
   "file_extension": ".py",
   "mimetype": "text/x-python",
   "name": "python",
   "nbconvert_exporter": "python",
   "pygments_lexer": "ipython3",
   "version": "3.11.0"
  }
 },
 "nbformat": 4,
 "nbformat_minor": 2
}
